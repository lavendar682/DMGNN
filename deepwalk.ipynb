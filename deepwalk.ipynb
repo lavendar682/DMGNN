{
 "cells": [
  {
   "cell_type": "code",
   "execution_count": 1,
   "id": "801ff309-7969-4176-8a67-c2706a6d8ba6",
   "metadata": {
    "tags": []
   },
   "outputs": [],
   "source": [
    "import numpy as np\n",
    "import pandas as pd\n",
    "import torch\n",
    "import torch.nn as nn\n",
    "import torch.nn.functional as F\n",
    "import torch_geometric.transforms as T\n",
    "import torch_cluster\n",
    "import torch_sparse\n",
    "\n",
    "from torch_geometric.nn import Node2Vec\n",
    "from torch_geometric.data import Data, DataLoader\n",
    "from torch_geometric.utils import dropout_adj, negative_sampling, remove_self_loops,add_self_loops"
   ]
  },
  {
   "cell_type": "code",
   "execution_count": 2,
   "id": "27ce133d-9639-42ba-b20e-181fe38450f8",
   "metadata": {
    "tags": []
   },
   "outputs": [],
   "source": [
    "device = torch.device(\"cuda\" if torch.cuda.is_available() else \"cpu\")"
   ]
  },
  {
   "cell_type": "code",
   "execution_count": 3,
   "id": "7bb1b542-8c93-49a5-a36b-b1a3a925d8e4",
   "metadata": {
    "tags": []
   },
   "outputs": [],
   "source": [
    "ppi = torch.load(\"ppi.pt\").cuda()"
   ]
  },
  {
   "cell_type": "code",
   "execution_count": 4,
   "id": "12cccdb0-2583-4956-a6d2-43152d14ec8c",
   "metadata": {
    "tags": []
   },
   "outputs": [
    {
     "data": {
      "text/plain": [
       "tensor(indices=tensor([[    0,     1,   322,  ..., 11393,  1356, 11394],\n",
       "                       [    0,     0,     0,  ..., 11393, 11394, 11394]]),\n",
       "       values=tensor([0.3333, 0.2357, 0.0758,  ..., 0.2500, 0.0874, 1.0000]),\n",
       "       device='cuda:0', size=(11395, 11395), nnz=181877, layout=torch.sparse_coo)"
      ]
     },
     "execution_count": 4,
     "metadata": {},
     "output_type": "execute_result"
    }
   ],
   "source": [
    "ppi"
   ]
  },
  {
   "cell_type": "code",
   "execution_count": 5,
   "id": "3b1c2196-841e-432a-9565-7e9f0f475276",
   "metadata": {
    "tags": []
   },
   "outputs": [
    {
     "data": {
      "text/plain": [
       "Node2Vec(11395, 16)"
      ]
     },
     "execution_count": 5,
     "metadata": {},
     "output_type": "execute_result"
    }
   ],
   "source": [
    "model = Node2Vec(ppi._indices(), embedding_dim=16, walk_length=40,\n",
    "                     context_size=5,  walks_per_node=10,\n",
    "                     num_negative_samples=1, p=1, q=1, sparse=True).to(device)\n",
    "model.cuda()"
   ]
  },
  {
   "cell_type": "code",
   "execution_count": 6,
   "id": "14ec9156-f723-4430-b14d-bac8856973a4",
   "metadata": {
    "tags": []
   },
   "outputs": [],
   "source": [
    "loader = model.loader(batch_size=128, shuffle=True)\n",
    "optimizer = torch.optim.SparseAdam(list(model.parameters()), lr=0.001)"
   ]
  },
  {
   "cell_type": "code",
   "execution_count": null,
   "id": "a61e55cb-017c-4401-99be-06839e5b2306",
   "metadata": {
    "tags": []
   },
   "outputs": [
    {
     "name": "stdout",
     "output_type": "stream",
     "text": [
      "Epoch:50, The loss is 0.7416343397564358\n",
      "Epoch:100, The loss is 0.7289802021450467\n",
      "Epoch:150, The loss is 0.7278648290369246\n",
      "Epoch:200, The loss is 0.7276557008425395\n",
      "Epoch:250, The loss is 0.7271610988510979\n",
      "Epoch:300, The loss is 0.7270283712281121\n",
      "Epoch:350, The loss is 0.7272047466701932\n",
      "Epoch:400, The loss is 0.727069103717804\n"
     ]
    }
   ],
   "source": [
    "def train():\n",
    "    model.train()\n",
    "    total_loss = 0\n",
    "    for pos_rw, neg_rw in loader:\n",
    "        optimizer.zero_grad()\n",
    "        loss = model.loss(pos_rw.cuda(), neg_rw.cuda())\n",
    "        loss.backward()\n",
    "        optimizer.step()\n",
    "        total_loss += loss.item()\n",
    "    return total_loss / len(loader)\n",
    "\n",
    "for epoch in range(1, 501):\n",
    "    loss = train()\n",
    "    if epoch%50 == 0:\n",
    "        print (f\"Epoch:{epoch}, The loss is {loss}\")\n",
    "\n",
    "model.eval()\n",
    "str_fearures = model()"
   ]
  },
  {
   "cell_type": "code",
   "execution_count": 41,
   "id": "4c23dd5f-d3ca-46a1-85fe-75c68cfe9bd1",
   "metadata": {
    "tags": []
   },
   "outputs": [
    {
     "data": {
      "text/plain": [
       "tensor([[0.0000, 0.0053, 0.0000,  ..., 0.0304, 0.0910, 0.0173],\n",
       "        [0.0000, 0.0053, 0.0000,  ..., 0.0662, 0.3309, 0.0425],\n",
       "        [0.0633, 0.0158, 0.0557,  ..., 0.2257, 0.3389, 0.5127],\n",
       "        ...,\n",
       "        [0.0000, 0.0053, 0.0000,  ..., 0.1495, 0.0753, 0.1055],\n",
       "        [0.0000, 0.0053, 0.0000,  ..., 0.0920, 0.0548, 0.1508],\n",
       "        [0.0000, 0.0106, 0.0000,  ..., 0.0452, 0.0000, 0.0000]],\n",
       "       device='cuda:0')"
      ]
     },
     "execution_count": 41,
     "metadata": {},
     "output_type": "execute_result"
    }
   ],
   "source": [
    "feature = torch.load('feature.pt')\n",
    "feature.x.to(device)"
   ]
  },
  {
   "cell_type": "code",
   "execution_count": 42,
   "id": "b4482aa3-a0e4-47a7-b4ca-7078ce35fef1",
   "metadata": {
    "tags": []
   },
   "outputs": [
    {
     "data": {
      "text/plain": [
       "Data(x=[11395, 48])"
      ]
     },
     "execution_count": 42,
     "metadata": {},
     "output_type": "execute_result"
    }
   ],
   "source": [
    "feature"
   ]
  },
  {
   "cell_type": "code",
   "execution_count": 43,
   "id": "6b5ea71e-fcd8-479a-b0ef-8f79a85f749f",
   "metadata": {
    "tags": []
   },
   "outputs": [],
   "source": [
    "combined_tensor = torch.cat((str_fearures, feature.x.to(device)), dim=1)  # dim=1 表示按列合并"
   ]
  },
  {
   "cell_type": "code",
   "execution_count": 44,
   "id": "c60b0556-0365-4574-b6f3-cb78c1c84c8d",
   "metadata": {
    "tags": []
   },
   "outputs": [
    {
     "data": {
      "text/plain": [
       "torch.Size([11395, 64])"
      ]
     },
     "execution_count": 44,
     "metadata": {},
     "output_type": "execute_result"
    }
   ],
   "source": [
    "combined_tensor.size()"
   ]
  },
  {
   "cell_type": "code",
   "execution_count": 45,
   "id": "1ef2ef81-15ff-415f-bf2c-4cce472f7586",
   "metadata": {
    "tags": []
   },
   "outputs": [],
   "source": [
    "torch.save(combined_tensor, \"feature_with_rw30.pt\")"
   ]
  },
  {
   "cell_type": "code",
   "execution_count": null,
   "id": "6c2df9c1-5c32-4816-81ef-2cf048c037b8",
   "metadata": {},
   "outputs": [],
   "source": []
  }
 ],
 "metadata": {
  "kernelspec": {
   "display_name": "Python 3 (ipykernel)",
   "language": "python",
   "name": "python3"
  },
  "language_info": {
   "codemirror_mode": {
    "name": "ipython",
    "version": 3
   },
   "file_extension": ".py",
   "mimetype": "text/x-python",
   "name": "python",
   "nbconvert_exporter": "python",
   "pygments_lexer": "ipython3",
   "version": "3.10.9"
  }
 },
 "nbformat": 4,
 "nbformat_minor": 5
}
